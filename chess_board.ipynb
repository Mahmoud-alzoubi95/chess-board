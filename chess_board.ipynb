{
 "metadata": {
  "language_info": {
   "codemirror_mode": {
    "name": "ipython",
    "version": 3
   },
   "file_extension": ".py",
   "mimetype": "text/x-python",
   "name": "python",
   "nbconvert_exporter": "python",
   "pygments_lexer": "ipython3",
   "version": "3.9.4"
  },
  "orig_nbformat": 2,
  "kernelspec": {
   "name": "python394jvsc74a57bd07979080fac02a30c0edbcebfb83204e32ee9a78702732576533e555feb33ff13",
   "display_name": "Python 3.9.4 64-bit ('3.9.4': pyenv)"
  },
  "metadata": {
   "interpreter": {
    "hash": "7979080fac02a30c0edbcebfb83204e32ee9a78702732576533e555feb33ff13"
   }
  }
 },
 "nbformat": 4,
 "nbformat_minor": 2,
 "cells": [
  {
   "cell_type": "code",
   "execution_count": null,
   "metadata": {},
   "outputs": [],
   "source": [
    "import numpy as np \r\n",
    "import matplotlib.pyplot as plt \r\n",
    "\r\n",
    "class ChessBoard:\r\n",
    " \r\n",
    "    def __init__(self):\r\n",
    "        self.grid = np.zeros([8,8,3])\r\n",
    "        for i in range(8):\r\n",
    "            for j in range(8):\r\n",
    "                if (i%2 == 0 and j%2 == 0) or (i%2 == 1 and j%2 == 1):\r\n",
    "                    self.grid[i,j]= [1,1,1]"
   ]
  },
  {
   "cell_type": "code",
   "execution_count": 4,
   "metadata": {},
   "outputs": [],
   "source": [
    "def render(self):\n",
    "  return plt.imshow(self.grid)"
   ]
  }
 ]
}