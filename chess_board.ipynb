{
 "cells": [
  {
   "cell_type": "code",
   "execution_count": 2,
   "id": "694e9663-c795-4921-888d-0e72dc061f22",
   "metadata": {},
   "outputs": [
    {
     "name": "stdout",
     "output_type": "stream",
     "text": [
      "pass\n"
     ]
    }
   ],
   "source": [
    "new = ChessBoard()\n",
    "new.add_red(1,6)\n",
    "new.add_blue(1,4)\n",
    "actual = new.is_under_attack()\n",
    "expected = True\n",
    "assert actual == expected\n",
    "print('pass')"
   ]
  },
  {
   "cell_type": "code",
   "execution_count": 7,
   "id": "b8bd01c7-3e4c-4bf7-a1ea-634978229187",
   "metadata": {},
   "outputs": [
    {
     "name": "stdout",
     "output_type": "stream",
     "text": [
      "False\n"
     ]
    },
    {
     "data": {
      "image/png": "[encoded data removed]",
      "text/plain": [
       "<Figure size 432x288 with 1 Axes>"
      ]
     },
     "metadata": {
      "needs_background": "light"
     },
     "output_type": "display_data"
    }
   ],
   "source": [
    "import numpy as np \n",
    "import matplotlib.pyplot as plt \n",
    "\n",
    "class ChessBoard:\n",
    "     \n",
    "    red_raw = []\n",
    "    blue_raw = []\n",
    "    \n",
    "    def __init__(self):\n",
    "        self.grid = np.zeros([8,8,3])\n",
    "        for i in range(8):\n",
    "            for j in range(8):\n",
    "                if (i%2 == 0 and j%2 == 0) or (i%2 == 1 and j%2 == 1):\n",
    "                    self.grid[i,j]= [1,1,1]\n",
    "                    \n",
    "          \n",
    "    def add_red(self,rx,ry):\n",
    "        self.grid[rx,ry] = [1,.2,0]\n",
    "        ChessBoard.red_raw = [rx,ry]\n",
    "        \n",
    "    def add_blue(self,rx,ry):\n",
    "        self.grid[rx,ry] = [0,1,1]\n",
    "        ChessBoard.blue_raw = [rx,ry]\n",
    "        \n",
    "    def render(self):\n",
    "        plt.imshow(self.grid)\n",
    "        \n",
    "    def is_under_attack(self):\n",
    "        if ChessBoard.red_raw[0] == ChessBoard.blue_raw[0] or ChessBoard.red_raw[1] == ChessBoard.blue_raw[1] or abs(ChessBoard.red_raw[0] - ChessBoard.blue_raw[0]) == abs(ChessBoard.red_raw[1] - ChessBoard.blue_raw[1]):\n",
    "            return True\n",
    "        return False \n",
    "            \n",
    "        \n",
    "a = ChessBoard()\n",
    "a.add_red(3,4)\n",
    "a.add_blue(2,6)\n",
    "print(a.is_under_attack())\n",
    "a.render()\n",
    "\n",
    "    "
   ]
  },
  {
   "cell_type": "code",
   "execution_count": 3,
   "id": "ec6fee19-8914-4946-8280-60f738fc0b0a",
   "metadata": {},
   "outputs": [
    {
     "name": "stdout",
     "output_type": "stream",
     "text": [
      "pass\n"
     ]
    }
   ],
   "source": [
    "## queens on same row should be “under attack”\n",
    "\n",
    "new = ChessBoard()\n",
    "new.add_red(6,3)\n",
    "new.add_blue(4,3)\n",
    "actual = new.is_under_attack()\n",
    "expected = True\n",
    "assert actual == expected\n",
    "print('pass')"
   ]
  },
  {
   "cell_type": "code",
   "execution_count": 4,
   "id": "af142541-7183-459c-a868-7f10a78cc499",
   "metadata": {},
   "outputs": [
    {
     "name": "stdout",
     "output_type": "stream",
     "text": [
      "pass\n"
     ]
    }
   ],
   "source": [
    "## queens on same column should be “under attack”\n",
    "\n",
    "new = ChessBoard()\n",
    "new.add_red(2,6)\n",
    "new.add_blue(1,7)\n",
    "actual = new.is_under_attack()\n",
    "expected = True\n",
    "assert actual == expected\n",
    "print('pass')"
   ]
  },
  {
   "cell_type": "code",
   "execution_count": 5,
   "id": "a35384f9-e9cf-4efb-9a36-10996cc85c9f",
   "metadata": {},
   "outputs": [
    {
     "name": "stdout",
     "output_type": "stream",
     "text": [
      "pass\n"
     ]
    }
   ],
   "source": [
    "##queens on same diagonal should be “under attack”\n",
    "\n",
    "new = ChessBoard()\n",
    "new.add_red(3,6)\n",
    "new.add_blue(1,3)\n",
    "actual = new.is_under_attack()\n",
    "expected = False\n",
    "assert actual == expected\n",
    "print('pass')"
   ]
  },
  {
   "cell_type": "code",
   "execution_count": null,
   "id": "808119cb-91dd-4b4d-91b1-12dd41b14e6a",
   "metadata": {},
   "outputs": [],
   "source": []
  },
  {
   "cell_type": "code",
   "execution_count": null,
   "id": "818f393c-31b1-4912-b0a3-002f374187d6",
   "metadata": {},
   "outputs": [],
   "source": []
  }
 ],
 "metadata": {
  "kernelspec": {
   "display_name": "Python 3",
   "language": "python",
   "name": "python3"
  },
  "language_info": {
   "codemirror_mode": {
    "name": "ipython",
    "version": 3
   },
   "file_extension": ".py",
   "mimetype": "text/x-python",
   "name": "python",
   "nbconvert_exporter": "python",
   "pygments_lexer": "ipython3",
   "version": "3.9.4"
  }
 },
 "nbformat": 4,
 "nbformat_minor": 5
}
