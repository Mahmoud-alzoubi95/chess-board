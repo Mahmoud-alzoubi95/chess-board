{
 "cells": [
  {
   "cell_type": "code",
   "execution_count": null,
   "id": "b1803e38-e399-4d07-b671-03826aa8cdab",
   "metadata": {},
   "outputs": [],
   "source": [
    "import numpy as np \n",
    "import matplotlib.pyplot as plt \n",
    "\n",
    "class ChessBoard:\n",
    "     \n",
    "    red_raw = []\n",
    "    blue_raw = []\n",
    "    \n",
    "    def __init__(self):\n",
    "        self.grid = np.zeros([8,8,3])\n",
    "        for i in range(8):\n",
    "            for j in range(8):\n",
    "                if (i%2 == 0 and j%2 == 0) or (i%2 == 1 and j%2 == 1):\n",
    "                    self.grid[i,j]= [1,1,1]\n",
    "                    \n",
    "          \n",
    "    def add_red(self,rx,ry):\n",
    "        self.grid[rx,ry] = [1,.2,0]\n",
    "        ChessBoard.red_raw = [rx,ry]\n",
    "        \n",
    "    def add_blue(self,rx,ry):\n",
    "        self.grid[rx,ry] = [0,1,1]\n",
    "        ChessBoard.blue_raw = [rx,ry]\n",
    "        \n",
    "    def render(self):\n",
    "        plt.imshow(self.grid)\n",
    "        \n",
    "    def is_under_attack(self):\n",
    "        if ChessBoard.red_raw[0] == ChessBoard.blue_raw[0] or ChessBoard.red_raw[1] == ChessBoard.blue_raw[1] or abs(ChessBoard.red_raw[0] - ChessBoard.blue_raw[0]) == abs(ChessBoard.red_raw[1] - ChessBoard.blue_raw[1]):\n",
    "            return True\n",
    "        return False \n",
    "            \n",
    "        \n",
    "a = ChessBoard()\n",
    "a.add_red(4,5)\n",
    "a.add_blue(2,6)\n",
    "print(a.is_under_attack())\n",
    "a.render()\n",
    "\n",
    "    "
   ]
  },
  {
   "cell_type": "code",
   "execution_count": null,
   "id": "c58b2b55-921c-4ad0-b43c-a73aaab114a2",
   "metadata": {},
   "outputs": [],
   "source": [
    "new = ChessBoard()\n",
    "new.add_red(1,6)\n",
    "new.add_blue(1,4)\n",
    "actual = new.is_under_attack()\n",
    "expected = True\n",
    "assert actual == expected\n",
    "print('pass')"
   ]
  },
  {
   "cell_type": "code",
   "execution_count": null,
   "id": "86b0240f-c136-4838-9394-5e7def472432",
   "metadata": {},
   "outputs": [],
   "source": [
    "new = ChessBoard()\n",
    "new.add_red(6,3)\n",
    "new.add_blue(4,3)\n",
    "actual = new.is_under_attack()\n",
    "expected = True\n",
    "assert actual == expected\n",
    "print('pass')"
   ]
  },
  {
   "cell_type": "code",
   "execution_count": null,
   "id": "aa00990f-b2e6-49fb-9b53-887c7ed76901",
   "metadata": {},
   "outputs": [],
   "source": [
    "new = ChessBoard()\n",
    "new.add_red(2,6)\n",
    "new.add_blue(1,7)\n",
    "actual = new.is_under_attack()\n",
    "expected = True\n",
    "assert actual == expected\n",
    "print('pass')"
   ]
  },
  {
   "cell_type": "code",
   "execution_count": null,
   "id": "4c3214bf-c457-47b8-9ebb-d31d1c09e4e8",
   "metadata": {},
   "outputs": [],
   "source": [
    "new = ChessBoard()\n",
    "new.add_red(3,6)\n",
    "new.add_blue(1,3)\n",
    "actual = new.is_under_attack()\n",
    "expected = False\n",
    "assert actual == expected\n",
    "print('pass')"
   ]
  },
  {
   "cell_type": "code",
   "execution_count": null,
   "id": "2a308b9e-d07a-44b4-aa44-6f5b66f36b97",
   "metadata": {},
   "outputs": [],
   "source": []
  },
  {
   "cell_type": "code",
   "execution_count": null,
   "id": "eca646cd-bc91-4627-ac82-89b6338c04ba",
   "metadata": {},
   "outputs": [],
   "source": []
  },
  {
   "cell_type": "code",
   "execution_count": null,
   "id": "e006175e-d20b-4c9c-abcd-812088407113",
   "metadata": {},
   "outputs": [],
   "source": []
  }
 ],
 "metadata": {
  "kernelspec": {
   "display_name": "Python 3",
   "language": "python",
   "name": "python3"
  },
  "language_info": {
   "codemirror_mode": {
    "name": "ipython",
    "version": 3
   },
   "file_extension": ".py",
   "mimetype": "text/x-python",
   "name": "python",
   "nbconvert_exporter": "python",
   "pygments_lexer": "ipython3",
   "version": "3.9.4"
  }
 },
 "nbformat": 4,
 "nbformat_minor": 5
}
